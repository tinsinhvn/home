{
 "cells": [
  {
   "cell_type": "markdown",
   "id": "f467c476-3721-44e2-bbf2-9b02449912b3",
   "metadata": {},
   "source": [
    "# Kiểm soát chất lượng"
   ]
  },
  {
   "cell_type": "markdown",
   "id": "e96c95d0-f673-4be5-bb65-89683e9e419a",
   "metadata": {},
   "source": [
    "\n",
    "| Thuật ngữ     | Dịch nghĩa | Ý nghĩa |\n",
    "| ----------- | ----------- | ----------- |\n",
    "| scRNAseq | Giải trình RNA tế bào đơn | giải trình tự RNA tế bào đơn (scRNA-seq) cho phép chúng ta phân tích biểu hiện gen của từng tế bào riêng lẻ trong một mẫu sinh học. |\n",
    "| Transcriptomics | Hệ phiên mã | là một lĩnh vực nghiên cứu tập trung vào việc phân tích toàn bộ tập hợp các phân tử RNA được tạo ra từ một bộ gen cụ thể, tại một thời điểm nhất định và dưới một điều kiện nhất định. |\n",
    "| transcript | Bản sao RNA | Transcript là bản sao RNA của một đoạn gen, mang thông tin để tổng hợp protein hoặc thực hiện các chức năng khác trong tế bào. |\n",
    "| cell-free RNA (cfRNA) | RNA tự do | là các phân tử RNA tự do tồn tại trong môi trường ngoại bào, không nằm bên trong tế bào. |\n",
    "| Ambient RNA | RNA môi trường | là các phân tử RNA tự do lơ lửng trong môi trường xung quanh các tế bào, không bị bao bọc bởi màng tế bào và không bao gồm Exosomes, ViRNA và các loại RNA khác |\n",
    "| doublet | Giọt kép |  là một hiện tượng xảy ra khi hai tế bào khác nhau bị bắt giữ trong cùng một giọt |\n",
    "| unique molecular identifiers (UMI) | Chỉ dấu phân tử duy nhất | là những đoạn mã ngắn, duy nhất được gắn vào mỗi phân tử RNA trước khi giải trình tự để phân biệt các phân tử RNA giống nha.u |\n",
    "| count | Số lượng/lần đếm/lần xuất hiện | số lượng phân tử RNA duy nhất (UMI) của một gen cụ thể được phát hiện trong một tế bào, phản ánh mức độ biểu hiện của gen đó trong tế bào đó. |\n",
    "| barcode | Mã vạch phân tử | là một đoạn trình tự nucleotide ngắn, duy nhất được gán cho mỗi tế bào hoặc mỗi giọt chứa tế bào để phân biệt chúng trong quá trình giải trình tự. |\n",
    "| droplet | Giọt | là một khối chất lỏng cực nhỏ chứa một hoặc một vài tế bào đơn lẻ, được bao bọc bởi một lớp dầu để cách ly với các giọt khác. Mỗi giọt này hoạt động như một \"ống nghiệm\" siêu nhỏ, nơi các phản ứng sinh học để chuẩn bị thư viện giải trình tự RNA diễn ra độc lập. |\n",
    "| soup | súp/hỗn hợp | sự nhiễm bẩn của mRNA tế bào tự do trong dung dịch đầu vào thường được gọi là \"súp\" (the soup), được tạo ra bởi sự phân hủy tế bào. |\n",
    "| feature | đặc điểm/thuộc tính | là một biến số, một thuộc tính được trích xuất từ dữ liệu scRNAseq, như số lượng gen được biểu hiện, điểm số của một thành phần chính (principal component), hoặc một nhãn phân loại (ví dụ: loại tế bào). |\n",
    "| cell hashing | Đánh dấu tế bào | là một kỹ thuật trong giải trình tự RNA tế bào đơn (scRNA-seq) cho phép chúng ta trộn nhiều mẫu tế bào khác nhau vào một ống nghiệm trước khi giải trình tự, đồng thời vẫn có thể phân biệt được các tế bào đến từ mẫu nào. |\n",
    "| Barcode bead | Hạt mã vạch |  là những hạt nhỏ có gắn các đoạn trình tự DNA duy nhất (mã vạch) được sử dụng để đánh dấu và phân biệt các tế bào riêng lẻ trong quá trình giải trình tự RNA tế bào đơn (scRNA-seq). |\n",
    "| Cell lysis | Sự phá vỡ tế bào |  là quá trình làm vỡ màng tế bào để giải phóng các thành phần bên trong, bao gồm cả RNA, ra môi trường xung quanh. Quá trình này nhằm mục đích thu thập RNA từ các tế bào để tiến hành giải trình tự và phân tích. |\n",
    "\n"
   ]
  },
  {
   "cell_type": "markdown",
   "id": "a8c7c0bb-9d05-4a17-9c5f-3a6b65300ca0",
   "metadata": {},
   "source": [
    "## 1. Giới thiệu\n",
    "Công nghệ RNA đơn bào (scRNA-seq) cung cấp một phương pháp khá khách quan để nghiên cứu sự đa dạng của tế bào trong các mẫu sinh học phức tạp. Nó đã thay đổi đáng kể khả năng của chúng ta trong việc hiểu sự đa dạng transcriptomic ở các trạng thái tế bào, các dòng tế bào và các bệnh khác nhau. Tuy nhiên, một trong những thách thức lớn của công nghệ này là \"nhiễu\" trong dữ liệu. Chẳng hạn, khi giải trình tự một lượng nhỏ mRNA sẽ rất dễ dẫn đến hiện tượng \"hụt mất\" - dropout các bản sao phiên mã - transcript tại bước phiên mã ngược và nó sẽ làm thay đổi đáng kể số lượng ban đầu của các transcript. Khi quan sát biểu hiện gen giữa các tế bào, đôi khi quan sát thấy chúng có tính ngẫu nhiên hoặc sự khác biệt giữa tế bào này với tế bào khác cùng loại, khả năng là kết quả của những đợt bùng phát hoặc dao động phiên mã đột ngột. \n",
    "Kiểm soát chất lượng của scRNA-seq và loại bỏ các sai lệch kỹ thuật là một bước rất quan trọng.\n"
   ]
  },
  {
   "cell_type": "markdown",
   "id": "394d3d3e-4f12-4a06-813e-5de356899c28",
   "metadata": {},
   "source": [
    "<img src=\"plots/quality_control.jpeg\" width=1200  />"
   ]
  },
  {
   "cell_type": "markdown",
   "id": "73acae63-544e-4039-a1e0-5565d8acbaa4",
   "metadata": {},
   "source": [
    "*Hình 1. Dữ liệu RNA đơn bào có thể chứa các tế bào chất lượng kém, RNA tự do và tế bào kép. Việc kiểm soát chất lượng nhằm loại bỏ và điều chỉnh những yếu tố này để đạt được một bộ dữ liệu chất lượng cao, trong đó mỗi đơn vị dữ liệu là một tế bào đơn nguyên vẹn.*"
   ]
  },
  {
   "cell_type": "markdown",
   "id": "a0782ea7-3c36-40d8-b9eb-16bb7e71b5df",
   "metadata": {},
   "source": [
    "Hầu hết các phân tích đều giả định rằng mỗi quan sát (observation) trong bộ dữ liệu đại diện cho các phép đo từ một tế bào đơn nguyên vẹn. Trong một số trường hợp, giả định này có thể bị vi phạm do các tế bào chất lượng kém, đã nhiễm RNA tự do hoặc giọt kép - doublet. Chương này sẽ giúp bạn có thể khắc phục và loại bỏ những vi phạm này để đạt được một bộ dữ liệu chất lượng cao."
   ]
  },
  {
   "cell_type": "markdown",
   "id": "9f752f2f-fb27-4bdf-ae52-989c208f10cb",
   "metadata": {},
   "source": [
    "## 2.2. Lọc bỏ các tế bào chất lượng thấp"
   ]
  },
  {
   "cell_type": "markdown",
   "id": "eda33557-6818-4109-9d7d-419a3ef759c3",
   "metadata": {},
   "source": [
    "Bước đầu tiên trong kiểm soát chất lượng là loại bỏ các tế bào chất lượng kém khỏi tập dữ liệu, khi một tế bào có số lượng gene được phát hiện thấp và số lượng count thấp cùng tỷ lệ count của ty thể - mitochondria (hay viết tắt là mt-/MT- trong tên gene) cao thì có thể màng tế bào đã bị vỡ và điều này cho thấy tế bào đang chết. Do các tế bào này thường không phải mục tiêu chính trong phân tích và có thể làm sai lệch kết quả phân tích sau này nên chúng ta loại bỏ chúng trong quá trình kiểm soát chất lượng. Để nhận diện chúng, ta có thể xác định đặt ngưỡng nhằm kiểm soát chất lượng tế bào.\n",
    "\n",
    "Kiểm soát chất lượng tế bào thường được thực hiện trên ba biến số sau: \n",
    "- Số lượng count trên barcode/tế bào\n",
    "- Số lượng gene trên barcode/tế bào\n",
    "- Tỷ lệ count từ gene ty thể trên barcode/tế bào\n",
    "\n",
    "\n",
    "Trong kiểm soát chất lượng tế bào các biến số này được lọc thông qua ngưỡng vì chúng có thể tương ứng với tế bào đang chết, như đã nêu chúng có thể phản ánh các tế bào có màng bị vỡ khiến mRNA trong tế bào chất bị rò rỉ ra ngoài và chỉ còn mRNA trong ty thể, những tế bào này có thể có số lượng count thấp, ít gene được phát hiện và tỷ lệ count ty thể cao.\n",
    "\n",
    "Tuy nhiên việc xem xét đồng thời ba biến số kiểm soát chất lượng là rất quan trọng nếu không có thể dẫn đến hiểu sai tín hiệu tế bào, ví dụ các tế bào có tỷ lệ count ty thể tương đối cao có thể liên quan đến quá trình hô hấp và không nên bị lọc ra trong khi các tế bào có số lượng count thấp hoặc cao có thể tương ứng với quần thể tế bào không hoạt động hoặc tế bào có kích thước lớn hơn.\n",
    "\n",
    "Do đó tốt nhất nên xem xét nhiều biến số khi đưa ra quyết định ngưỡng trên từng biến số riêng lẻ, nhìn chung nên thận trọng và linh hoạt, loại càng ít tế bào càng tốt để tránh đánh mất những quần thể tế bào còn sống hoặc các loại tế bào hiếm với số lượng nhỏ."
   ]
  },
  {
   "cell_type": "markdown",
   "id": "574a77f0-dbe6-44b0-ad53-634353037677",
   "metadata": {},
   "source": [
    "Bạn đọc có thể thực hành với trang sau: \n",
    "\n",
    "[https://www.sc-best-practices.org/preprocessing_visualization/quality_control.html#filtering-low-quality-cells](https://www.sc-best-practices.org/preprocessing_visualization/quality_control.html#filtering-low-quality-cells)"
   ]
  },
  {
   "cell_type": "markdown",
   "id": "3b69955f-6608-46b1-9850-25e398c09cfe",
   "metadata": {},
   "source": [
    "## 3. Hiệu chỉnh RNA tự do"
   ]
  },
  {
   "cell_type": "markdown",
   "id": "7d79c29b-be25-4090-83bf-0bb81993ac0d",
   "metadata": {},
   "source": [
    "Đối với các thí nghiệm scRNA-seq dựa trên \"giọt\" - droplet, một lượng nhất định của mRNA nền có mặt trong dung dịch pha loãng được phân phối vào các giọt có tế bào và được giải trình tự cùng với từng giọt đó. Hậu quả của điều này là tạo ra một sự nhiễm bẩn trong quá trình giải trình tự, dẫn đến biểu hiện gene ở đây thể hiện cho nhiều tế bào chứ không phải một tế bào duy nhất như chúng ta mong muốn.\n",
    "\n",
    "scRNA-seq đếm số lượng các \"trình tự nhận dạng phân tử duy nhất\" (unique molecular identifiers - UMI) nhằm xác định số lượng phân tử cho từng gene và từng tế bào. Giả định rằng mỗi droplet chứa mRNA từ các tế bào đơn lẻ, hiện tượng doublet (droplet chứa 2 tế bào), droplet rỗng và RNA tự do ngoài tế bào (cfRNA) có thể vi phạm giả định này. Các phân tử mRNA tự do đại diện cho mRNA nền có mặt trong dung dịch pha loãng. Các phân tử này được phân phối dọc theo các droplet và được giải trình tự cùng với chúng. Sự nhiễm bẩn của mRNA tự do trong dung dịch đầu vào thường được gọi là \"súp\" được tạo ra bởi sự phân hủy tế bào."
   ]
  },
  {
   "cell_type": "markdown",
   "id": "5e87bd9b-e68a-490b-abfc-1282b16ea1cf",
   "metadata": {},
   "source": [
    "<img src=\"plots/ambient_rna.jpeg\" width=1200  />"
   ]
  },
  {
   "cell_type": "markdown",
   "id": "80970319-8e7f-4b23-93f2-228b5795a713",
   "metadata": {},
   "source": [
    "*Hình 2: Ở các công nghệ giải trình tự dựa trên dạng giọt - droplet-based, các giọt có thể kết hợp cfRNA hoặc doublet. cfRNA bị nhiễm bẩn được mã hóa - barcoding và giải trình tự cùng với mRNA gốc từ tế bào, dẫn đến số count bị lẫn lộn.*"
   ]
  },
  {
   "cell_type": "markdown",
   "id": "7199d06e-f382-4f7a-bdbe-08a9318fb1b1",
   "metadata": {},
   "source": [
    "Các phân tử mRNA tự do có thể gây ra nhầm lẫn số lượng count quan sát được và có thể được coi là sự nhiễm bẩn nền (background contamination). Điều quan trọng là phải hiệu chỉnh các bộ dữ liệu scRNA-seq đối với mRNA tự do vì nó có thể làm sai lệch việc giải thích dữ liệu trong phân tích downstream. Nói chung, \"súp\" sẽ khác nhau đối với mỗi dung dịch đầu vào và phụ thuộc vào mô hình biểu hiện gene trên từng tế bào trong bộ dữ liệu. Các phương pháp loại bỏ mRNA môi trường như SoupX {cite}`qc:Young2020` và DecontX {cite}`decontX_yang_decontamination_2020` nhằm mục đích ước tính thành phần của súp và hiệu chỉnh ma trận counts dựa vào biểu hiện gene của súp."
   ]
  },
  {
   "cell_type": "markdown",
   "id": "8f9626d2-ecee-484a-bc47-7e7792b9c824",
   "metadata": {},
   "source": [
    "## 4. Phát hiện Doublet - giọt kép"
   ]
  },
  {
   "cell_type": "markdown",
   "id": "cc71e317-301b-4eee-aa30-a5b41ac9be94",
   "metadata": {},
   "source": [
    "Doublet là hiện tượng hai tế bào nằm trong cùng một giọt (droplet) theo cùng một mã vạch tế bào. Đó là lý do tại sao chúng ta luôn sử dụng thuật ngữ \"mã vạch\" - barcode thay vì \"tế bào\" - cell. Một doublet được gọi là đồng hình nếu nó được hình thành bởi cùng một loại tế bào (nhưng từ các cá thể khác nhau) và dị hình nếu từ hai loại tế bào khác nhau. Doublet đồng hình không nhất thiết phải được xác định từ ma trận counts và thường được coi là vô hại vì chúng có thể được xác định bằng cách sử dụng hashing tế bào hoặc SNP. Do đó, việc xác định chúng không phải là mục tiêu chính của các phương pháp phát hiện doublet.\n",
    "\n",
    "Doublet được hình thành từ các loại tế bào khác nhau được gọi là dị hình. Việc xác định chúng là rất quan trọng vì chúng rất có thể dẫn đến bị phân loại sai và làm hỏng các bước phân tích downstream. Do đó, phát hiện và loại bỏ doublet thường là một trong những bước tiền xử lý đầu tiên. Doublet có thể được xác định thông qua số lượng read và các \"thuộc tính\" - feature, hoặc bằng các phương pháp tạo ra các doublet nhân tạo và so sánh với các tế bào có trong bộ dữ liệu của chúng ta. Các phương pháp phát hiện doublet hiện nay có hiệu quả cao về mặt tính toán và có khá nhiều phần mềm được công bố để xử lý việc này.\n",
    "\n",
    "{cite}`xi_benchmarking_2021` đã đánh giá 9 phương pháp phát hiện doublet khác nhau và đồng thời, đánh giá hiệu suất của chúng về hiệu quả tính toán và độ chính xác.\n",
    "\n",
    "Các bạn có thể đọc thêm hướng dẫn thực hành tại đây:\n",
    "\n",
    "[https://www.sc-best-practices.org/preprocessing_visualization/quality_control.html#doublet-detection](https://www.sc-best-practices.org/preprocessing_visualization/quality_control.html#doublet-detection)"
   ]
  },
  {
   "cell_type": "markdown",
   "id": "c2704044-68f9-434c-be80-04b8b7d42d2c",
   "metadata": {},
   "source": [
    "<img src=\"plots/doublet_detection.jpeg\" width=1200  />"
   ]
  },
  {
   "cell_type": "markdown",
   "id": "30c3a213-e5fb-4fd3-bf55-8ce8e41d464c",
   "metadata": {},
   "source": [
    "*Hình 3: Doublet là các giọt chứa nhiều hơn một tế bào. Các phương pháp phát hiện doublet phổ biến tạo ra các doublet nhân tạo bằng cách lấy mẫu ngẫu nhiên các cặp tế bào và trung bình \"hồ sơ biểu hiện gen\" - Gene expression profile của chúng để thu được số lượng doublet. Các doublet nhân tạo này được tham chiếu cùng với các tế bào còn lại vào PCA có chiều thấp hơn. Phương pháp phát hiện doublet tính toán điểm số doublet dựa trên số lượng \"láng giềng\"- neighors doublet nhân tạo trong đồ thị KNN gần nhất.*"
   ]
  },
  {
   "cell_type": "markdown",
   "id": "d59ac94a-fa32-4ee7-b963-e834de3c9f34",
   "metadata": {},
   "source": [
    "## 4. Những điểm cần lưu ý"
   ]
  },
  {
   "cell_type": "markdown",
   "id": "b0842a19-f98c-4761-8def-1ac044ca78eb",
   "metadata": {},
   "source": [
    "- Lọc tế bào chất lượng kém: Nên dựa trên độ lệch tuyệt đối trung bình (median absolute deviation - MAD) với ngưỡng rộng để tránh thiên vị đối với các quần thể nhỏ.\n",
    "- Lọc dựa trên đặc trưng: Không cho thấy lợi ích cho các phân tích downstream.\n",
    "- Phát hiện doublet: Có thể được thực hiện hiệu quả với các công cụ như [scDblFinderm](https://github.com/plger/scDblFinder) hay [Scrublet](https://github.com/swolock/scrublet)\n",
    "- Phương pháp phát hiện doublet: Không nên được áp dụng trên dữ liệu scRNA-seq tổng hợp đại diện cho nhiều batch khác nhau, mà nên thực hiện trên từng dữ liệu một.\n",
    "- Có thể sử dụng phần mềm tự động QC: [scAutoQC](https://github.com/Teichlab/sctk)"
   ]
  },
  {
   "cell_type": "markdown",
   "id": "b9fb1cc2-4826-4566-9dd6-c5a7a7c8ffab",
   "metadata": {},
   "source": [
    "## 5. Tham khảo"
   ]
  },
  {
   "cell_type": "markdown",
   "id": "c7288793-79fe-46c9-bed1-9ab8027d24fa",
   "metadata": {},
   "source": [
    "Bài này tổng hợp chủ yếu dựa trên [https://www.sc-best-practices.org/preprocessing_visualization/quality_control.html](https://www.sc-best-practices.org/preprocessing_visualization/quality_control.html)\n",
    "\n",
    "Bổ sung thêm sau ...\n",
    "\n",
    "```{bibliography}\n",
    ":filter: docname in docnames\n",
    ":labelprefix: at\n",
    "```"
   ]
  },
  {
   "cell_type": "markdown",
   "id": "f3eb4a0a-1083-4f11-b0d2-8db378de38ff",
   "metadata": {},
   "source": [
    "## 6. Người đóng góp"
   ]
  },
  {
   "cell_type": "markdown",
   "id": "b70c238a-0c5f-4121-952f-fba65ae61ee8",
   "metadata": {},
   "source": [
    "### 6.1. Tác giả/dịch giả\n",
    "- Duy Pham\n",
    "\n",
    "### 6.2. Người đánh giá"
   ]
  },
  {
   "cell_type": "code",
   "execution_count": null,
   "id": "a288df18-ab0c-4dea-bfb0-3f80d91a9640",
   "metadata": {},
   "outputs": [],
   "source": []
  }
 ],
 "metadata": {
  "kernelspec": {
   "display_name": "Python 3 (ipykernel)",
   "language": "python",
   "name": "python3"
  },
  "language_info": {
   "codemirror_mode": {
    "name": "ipython",
    "version": 3
   },
   "file_extension": ".py",
   "mimetype": "text/x-python",
   "name": "python",
   "nbconvert_exporter": "python",
   "pygments_lexer": "ipython3",
   "version": "3.11.10"
  }
 },
 "nbformat": 4,
 "nbformat_minor": 5
}
